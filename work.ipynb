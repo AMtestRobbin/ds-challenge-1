{
 "cells": [
  {
   "cell_type": "markdown",
   "metadata": {},
   "source": [
    "# Import packages"
   ]
  },
  {
   "cell_type": "code",
   "execution_count": null,
   "metadata": {},
   "outputs": [],
   "source": [
    "# import packages \n",
    "import tabula\n",
    "import pdfplumber\n",
    "import xgboost\n",
    "import pickle\n",
    "import matplotlib\n",
    "import pandas as pd\n",
    "import numpy as np\n",
    "from sklearn import linear_model\n",
    "from sklearn.model_selection import train_test_split\n",
    "from sklearn.feature_selection import SelectFromModel\n",
    "from sklearn.pipeline import Pipeline\n",
    "from sklearn import metrics\n",
    "from sklearn.metrics import mean_squared_error, mean_absolute_error, r2_score"
   ]
  },
  {
   "cell_type": "markdown",
   "metadata": {},
   "source": [
    "# Load pdf by dividing x and y seperately and combine first x and y as df"
   ]
  },
  {
   "cell_type": "code",
   "execution_count": null,
   "metadata": {},
   "outputs": [],
   "source": [
    "# define pdf inputs\n",
    "x_pages = '1-74'\n",
    "start_index = 0\n",
    "x_pages_end = 74\n",
    "y_pages_end = 148\n",
    "pdf_path = '/home/ubuntu/2.AM/ds-challenge-1/data.pdf'\n",
    "x_columns = ['Sex', 'Length', 'Diameter', 'Height', 'Weight', 'Shucked Weight', 'Viscera Weight', 'Shell Weight']"
   ]
  },
  {
   "cell_type": "code",
   "execution_count": null,
   "metadata": {},
   "outputs": [],
   "source": [
    "# load pdf by pages, separated x(other variables) and y(age)\n",
    "x_pdf = tabula.read_pdf(pdf_path, pages = x_pages, encoding = 'utf-8',  multiple_tables = True)\n",
    "y_pdf = pdfplumber.open(pdf_path).pages[x_pages_end: y_pages_end]"
   ]
  },
  {
   "cell_type": "code",
   "execution_count": null,
   "metadata": {},
   "outputs": [],
   "source": [
    "# combine first x variables table and age label\n",
    "df = x_pdf[start_index].copy()\n",
    "df.columns = x_columns\n",
    "\n",
    "age = y_pdf[start_index].extract_text().split()[2: -2]\n",
    "df['Age'] = age"
   ]
  },
  {
   "cell_type": "markdown",
   "metadata": {},
   "source": [
    "# Format checking for remain pages"
   ]
  },
  {
   "cell_type": "code",
   "execution_count": null,
   "metadata": {},
   "outputs": [],
   "source": [
    "# separate x_pdf into good format(correct_pages) and bad format(incorrect_pages)\n",
    "correct_pages = []\n",
    "incorrect_pages = []\n",
    "\n",
    "for i in range(1, 74):\n",
    "    if x_pdf[i].isnull().any().sum() == 0:\n",
    "        correct_pages.append(i)\n",
    "    else:\n",
    "        incorrect_pages.append(i)\n",
    "\n",
    "# check if y_pdf meet same length of x_pdf for each page\n",
    "mis_match_pages = []\n",
    "\n",
    "for i in range(1, 74):\n",
    "    len_x = x_pdf[i].shape[0]\n",
    "    len_y = len(y_pdf[i].extract_text().split()) - 3\n",
    "    if len_x != len_y:\n",
    "        mis_match_pages.append(i)\n",
    "        \n",
    "# delete mis-match pages in correct_pages\n",
    "correct_pages = list(set(correct_pages) - set(mis_match_pages))"
   ]
  },
  {
   "cell_type": "markdown",
   "metadata": {},
   "source": [
    "# Adjust incorrect pages"
   ]
  },
  {
   "cell_type": "code",
   "execution_count": null,
   "metadata": {},
   "outputs": [],
   "source": [
    "# deal with page 17\n",
    "x_pdf[17][2] = x_pdf[17][2].fillna(0).astype(float) + x_pdf[17][3].fillna(0).astype(float)\n",
    "del x_pdf[17][3]\n",
    "x_pdf[17].columns = [0,1,2,3,4,5,6,7]\n",
    "\n",
    "# deal with page 30, 46, 50, 58 \n",
    "x_pdf[30].at[8, 3] =  x_pdf[30][2][8].split()[2]\n",
    "x_pdf[46].at[50, 3] =  x_pdf[46][2][50].split()[2]\n",
    "x_pdf[50].at[8, 3] =  x_pdf[50][2][8].split()[2]\n",
    "x_pdf[58].at[33, 3] =  x_pdf[58][2][33].split()[2]\n",
    "\n",
    "# deal with 2, 3 columns mixed\n",
    "mis_23 = [9, 14]\n",
    "for i in mis_23:\n",
    "    x_23 = x_pdf[i][2].map(lambda x: x.split())\n",
    "    x_2 = [item[0] for item in x_23]\n",
    "    x_3 = [item[1] for item in x_23]\n",
    "    x_pdf[i][2] = x_2\n",
    "    x_pdf[i][3] = x_3\n",
    "\n",
    "# deal with 3, 4 columns mixed\n",
    "mis_34 = [8, 69]\n",
    "for i in mis_34:\n",
    "    x_34 = x_pdf[i][3].map(lambda x: x.split())\n",
    "    x_3 = [item[0] for item in x_34]\n",
    "    x_4 = [item[1] for item in x_34]\n",
    "    x_pdf[i][3] = x_3\n",
    "    x_pdf[i][4] = x_4\n",
    "\n",
    "# deal with 2, 3, 4 columns mixed    \n",
    "mis_234 = [30, 50, 58]  \n",
    "for i in mis_234:\n",
    "    x_pdf[i][4] = x_pdf[i][3]\n",
    "    x_23 = x_pdf[i][2].map(lambda x: x.split())\n",
    "    x_2 = [item[0] for item in x_23]\n",
    "    x_3 = [item[1] for item in x_23]\n",
    "    x_pdf[i][2] = x_2\n",
    "    x_pdf[i][3] = x_3\n",
    "\n",
    "# deal with 3, 4 and 6, 7 columns mixed\n",
    "mis_34_67 = [12, 67]\n",
    "for i in mis_34_67:\n",
    "    x_34 = x_pdf[i][3].map(lambda x: x.split())\n",
    "    x_3 = [item[0] for item in x_34]\n",
    "    x_4 = [item[1] for item in x_34]\n",
    "    x_pdf[i][3] = x_3\n",
    "    x_pdf[i][4] = x_4\n",
    "    x_67 = x_pdf[i][6].map(lambda x: x.split())\n",
    "    x_6 = [item[0] for item in x_67]\n",
    "    x_7 = [item[1] for item in x_67]\n",
    "    x_pdf[i][6] = x_6\n",
    "    x_pdf[i][7] = x_7\n",
    "    \n",
    "# deal with 2, 4 and 6, 7 columns mixed\n",
    "mis_24_67 = [46]\n",
    "for i in mis_24_67:\n",
    "    x_pdf[i][4] = x_pdf[i][3]\n",
    "    x_23 = x_pdf[i][2].map(lambda x: x.split())\n",
    "    x_2 = [item[0] for item in x_23]\n",
    "    x_3 = [item[1] for item in x_23]\n",
    "    x_pdf[i][2] = x_2\n",
    "    x_pdf[i][3] = x_3\n",
    "    x_67 = x_pdf[i][6].map(lambda x: x.split())\n",
    "    x_6 = [item[0] for item in x_67]\n",
    "    x_7 = [item[1] for item in x_67]\n",
    "    x_pdf[i][6] = x_6\n",
    "    x_pdf[i][7] = x_7\n",
    "    \n",
    "# deal with page 51\n",
    "mis_34_56 = [51]\n",
    "for i in mis_34_56:\n",
    "    x_34 = x_pdf[i][3].map(lambda x: x.split())\n",
    "    x_3 = [item[0] for item in x_34]\n",
    "    x_4 = [item[1] for item in x_34]\n",
    "    x_pdf[i][3] = x_3\n",
    "    x_pdf[i][4] = x_4\n",
    "    x_56 = x_pdf[51][5].map(lambda x: x.split())\n",
    "    x_5 = [item[0] for item in x_56]\n",
    "    x_6 = [item[1] for item in x_56]\n",
    "    x_pdf[i][5] = x_5\n",
    "    x_pdf[i][6] = x_6\n",
    "\n",
    "x_pdf[51].at[4, 4] = -999\n",
    "x_pdf[51].at[4, 6] = -999\n",
    "x_pdf[51].at[4, 7] = -999\n",
    "\n",
    "# deal with page 20, 45\n",
    "x_pdf[20] = x_pdf[20].drop([43]).reset_index(drop = True)\n",
    "x_pdf[45] = x_pdf[45].drop([45]).reset_index(drop = True)"
   ]
  },
  {
   "cell_type": "markdown",
   "metadata": {},
   "source": [
    "# Append correct pages to df"
   ]
  },
  {
   "cell_type": "code",
   "execution_count": null,
   "metadata": {},
   "outputs": [],
   "source": [
    "# loop correct pages by combining x and y, then append to df\n",
    "for i in correct_pages:\n",
    "    sub_df = x_pdf[i].copy()\n",
    "    sub_df.columns = x_columns\n",
    "    age = y_pdf[i].extract_text().split()[1: -2]\n",
    "    sub_df['Age'] = age\n",
    "    df = df.append(sub_df, ignore_index = True)"
   ]
  },
  {
   "cell_type": "markdown",
   "metadata": {},
   "source": [
    "# Append adjusted incorrect pages to df"
   ]
  },
  {
   "cell_type": "code",
   "execution_count": null,
   "metadata": {},
   "outputs": [],
   "source": [
    "# loop incorrect pages by combining x and y, then append to df\n",
    "for i in incorrect_pages:\n",
    "    sub_df = x_pdf[i].copy()\n",
    "    sub_df.columns = x_columns\n",
    "    age = y_pdf[i].extract_text().split()[1: -2]\n",
    "    sub_df['Age'] = age\n",
    "    df = df.append(sub_df, ignore_index = True)"
   ]
  },
  {
   "cell_type": "markdown",
   "metadata": {},
   "source": [
    "# Data cleansing and feature engineering"
   ]
  },
  {
   "cell_type": "code",
   "execution_count": null,
   "metadata": {},
   "outputs": [],
   "source": [
    "# adjust data type of columns \n",
    "# adjust float columns\n",
    "float_cols = ['Length', 'Diameter', 'Height', 'Weight', 'Shucked Weight', 'Viscera Weight', 'Shell Weight']\n",
    "\n",
    "for i in float_cols:\n",
    "    df[i] = df[i].astype(float)\n",
    "\n",
    "# convert age as int\n",
    "df['Age'] = df['Age'].astype(int)\n",
    "\n",
    "# Dummy for sex\n",
    "sex_dum = pd.get_dummies(df['Sex'], prefix = 'Sex')\n",
    "df = pd.concat([df , sex_dum], axis = 1)\n",
    "del df['Sex']"
   ]
  },
  {
   "cell_type": "code",
   "execution_count": null,
   "metadata": {},
   "outputs": [],
   "source": [
    "# Add error feature\n",
    "df['Weight Error'] = df['Weight'] - df['Shell Weight'] - df['Shucked Weight'] - df['Viscera Weight']\n",
    "\n",
    "# generate interaction features\n",
    "binary_cols = ['Sex_F', 'Sex_I', 'Sex_M']\n",
    "continuous_cols = ['Length', 'Diameter', 'Height', 'Weight', 'Shucked Weight', 'Viscera Weight', 'Shell Weight']\n",
    "\n",
    "for i in binary_cols:\n",
    "    x1 = df[i]\n",
    "    for j in continuous_cols:\n",
    "        x2 = df[j]\n",
    "        df[i + '_x_' + j] = x1*x2\n",
    "\n",
    "for i in continuous_cols:\n",
    "    x1 = df[i]\n",
    "    for j in continuous_cols:\n",
    "        if i != j:\n",
    "            x2 = df[j]\n",
    "            df[i + '_x_' + j] = x1*x2"
   ]
  },
  {
   "cell_type": "code",
   "execution_count": null,
   "metadata": {},
   "outputs": [],
   "source": [
    "# drop outliers and fill missing\n",
    "df = df[(df['Height'] < 1)&(df['Height'] > 0.01)&(df['Weight'] != -999)&\n",
    "        (df['Shucked Weight'] < df['Weight'])&(df['Shell Weight'] < df['Weight'])].fillna(0)"
   ]
  },
  {
   "cell_type": "markdown",
   "metadata": {},
   "source": [
    "# Train test split"
   ]
  },
  {
   "cell_type": "code",
   "execution_count": null,
   "metadata": {},
   "outputs": [],
   "source": [
    "# train test split\n",
    "Y = df['Age'].values\n",
    "X = df[df.columns.drop('Age')].values\n",
    "\n",
    "X_train, X_test, Y_train, Y_test = train_test_split(X, Y, test_size = 0.3, random_state = 32)"
   ]
  },
  {
   "cell_type": "markdown",
   "metadata": {},
   "source": [
    "# Modeling and performance"
   ]
  },
  {
   "cell_type": "code",
   "execution_count": null,
   "metadata": {},
   "outputs": [],
   "source": [
    "# BayesianRidge\n",
    "BR = linear_model.BayesianRidge(n_iter = 500)\n",
    "# Ridge\n",
    "Ridge = linear_model.RidgeCV(alphas = [1, 0.1, 0.01, 0.001], cv = 5)\n",
    "# Lasso\n",
    "Lasso = linear_model.LassoCV(alphas = [1, 0.1, 0.01, 0.001], cv = 5)\n",
    "# XGBoost\n",
    "XGB = xgboost.XGBRegressor(colsample_bytree = 0.3,\n",
    "                           eval_metric = 'rmse',\n",
    "                           gamma = 0,                 \n",
    "                           learning_rate = 0.1,\n",
    "                           max_depth = 3,\n",
    "                           min_child_weight = 1,\n",
    "                           n_estimators = 30,\n",
    "                           reg_alpha = 0.1,\n",
    "                           reg_lambda = 0.6,\n",
    "                           subsample = 0.5,\n",
    "                           seed = 32)\n",
    "# fit models\n",
    "BR.fit(X_train, Y_train)\n",
    "Ridge.fit(X_train, Y_train)\n",
    "Lasso.fit(X_train, Y_train)\n",
    "XGB.fit(X_train, Y_train)"
   ]
  },
  {
   "cell_type": "code",
   "execution_count": null,
   "metadata": {},
   "outputs": [],
   "source": [
    "# predict training and test data\n",
    "BR_train_pred = BR.predict(X_train)\n",
    "BR_test_pred = BR.predict(X_test)\n",
    "Ridge_train_pred = Ridge.predict(X_train)\n",
    "Ridge_test_pred = Ridge.predict(X_test)\n",
    "Lasso_train_pred = Lasso.predict(X_train)\n",
    "Lasso_test_pred = Lasso.predict(X_test)\n",
    "XGB_train_pred = XGB.predict(X_train)\n",
    "XGB_test_pred = XGB.predict(X_test)\n",
    "# ensemble by average results\n",
    "train_pred = np.round((BR_train_pred + Lasso_train_pred + XGB_train_pred + Ridge_train_pred)/4)\n",
    "test_pred = np.round((BR_test_pred + Lasso_test_pred + XGB_test_pred + Ridge_test_pred)/4)"
   ]
  },
  {
   "cell_type": "code",
   "execution_count": null,
   "metadata": {},
   "outputs": [],
   "source": [
    "# evaluate stats\n",
    "train_rmse = np.sqrt(metrics.mean_squared_error(Y_train, train_pred))\n",
    "test_rmse = np.sqrt(metrics.mean_squared_error(Y_test, test_pred))\n",
    "train_mean_squared_error = mean_squared_error(Y_train, train_pred)\n",
    "test_mean_squared_error = mean_squared_error(Y_test, test_pred)\n",
    "train_mean_absolute_error = mean_absolute_error(Y_train, train_pred)\n",
    "test_mean_absolute_error = mean_absolute_error(Y_test, test_pred)\n",
    "train_r2 = r2_score(Y_train, train_pred)\n",
    "test_r2 = r2_score(Y_test, test_pred)"
   ]
  },
  {
   "cell_type": "markdown",
   "metadata": {},
   "source": [
    "# Check residuals"
   ]
  },
  {
   "cell_type": "code",
   "execution_count": null,
   "metadata": {},
   "outputs": [],
   "source": [
    "# predict all records\n",
    "BR_pred = BR.predict(X)\n",
    "Ridge_pred = Ridge.predict(X)\n",
    "Lasso_pred = Lasso.predict(X)\n",
    "XGB_pred = XGB.predict(X)\n",
    "\n",
    "train_pred = np.round((BR_pred + Lasso_pred + XGB_pred + Ridge_pred) / 4)\n",
    "df['pred'] = train_pred\n",
    "df['error'] = df['Age'] - df['pred']\n",
    "\n",
    "#df.plot.scatter(x = 'Height', y = 'error')\n",
    "#df.plot.scatter(x = 'Weight', y = 'error')"
   ]
  },
  {
   "cell_type": "markdown",
   "metadata": {},
   "source": [
    "# Save models"
   ]
  },
  {
   "cell_type": "code",
   "execution_count": null,
   "metadata": {},
   "outputs": [],
   "source": [
    "# save models to pkl\n",
    "regs = {'BR': BR, 'Ridge': Ridge, 'Lasso': Lasso, 'XGB': XGB}\n",
    "pickle.dump(regs, open('/home/ubuntu/2.AM/regs.pkl', 'wb'))"
   ]
  }
 ],
 "metadata": {
  "kernelspec": {
   "display_name": "Python 3",
   "language": "python",
   "name": "python3"
  },
  "language_info": {
   "codemirror_mode": {
    "name": "ipython",
    "version": 3
   },
   "file_extension": ".py",
   "mimetype": "text/x-python",
   "name": "python",
   "nbconvert_exporter": "python",
   "pygments_lexer": "ipython3",
   "version": "3.6.5"
  }
 },
 "nbformat": 4,
 "nbformat_minor": 2
}
